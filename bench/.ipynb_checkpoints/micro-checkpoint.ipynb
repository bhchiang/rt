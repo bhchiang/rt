{
 "cells": [
  {
   "cell_type": "code",
   "execution_count": 1,
   "metadata": {},
   "outputs": [],
   "source": [
    "import jax.numpy as jnp\n",
    "from jax import random, vmap, jit\n",
    "\n",
    "key = random.PRNGKey(0)\n",
    "keys = random.split(key, 10)\n",
    "\n",
    "def multiply(x):\n",
    "    return jnp.dot(x, x)\n",
    "\n",
    "@jit\n",
    "def multiply_jit(x):\n",
    "    return jnp.dot(x, x)\n",
    "@jit\n",
    "def run(k):\n",
    "    x = random.uniform(k, (1000, 1000))\n",
    "    return multiply(x)\n",
    "#     return multiply_jit(x)"
   ]
  },
  {
   "cell_type": "code",
   "execution_count": 2,
   "metadata": {},
   "outputs": [],
   "source": [
    "%%capture output\n",
    "for k in keys:\n",
    "    %time run(k).block_until_ready()"
   ]
  },
  {
   "cell_type": "code",
   "execution_count": 3,
   "metadata": {},
   "outputs": [
    {
     "name": "stdout",
     "output_type": "stream",
     "text": [
      "CPU times: user 470 ms, sys: 196 ms, total: 665 ms\n",
      "Wall time: 884 ms\n",
      "CPU times: user 394 us, sys: 357 us, total: 751 us\n",
      "Wall time: 571 us\n",
      "CPU times: user 290 us, sys: 263 us, total: 553 us\n",
      "Wall time: 410 us\n",
      "CPU times: user 282 us, sys: 255 us, total: 537 us\n",
      "Wall time: 398 us\n",
      "CPU times: user 289 us, sys: 261 us, total: 550 us\n",
      "Wall time: 400 us\n",
      "CPU times: user 549 us, sys: 0 ns, total: 549 us\n",
      "Wall time: 411 us\n",
      "CPU times: user 535 us, sys: 0 ns, total: 535 us\n",
      "Wall time: 392 us\n",
      "CPU times: user 530 us, sys: 0 ns, total: 530 us\n",
      "Wall time: 395 us\n",
      "CPU times: user 530 us, sys: 0 ns, total: 530 us\n",
      "Wall time: 391 us\n",
      "CPU times: user 523 us, sys: 0 ns, total: 523 us\n",
      "Wall time: 389 us\n",
      "\n"
     ]
    }
   ],
   "source": [
    "out = str(output)\n",
    "print(out)"
   ]
  },
  {
   "cell_type": "code",
   "execution_count": 4,
   "metadata": {},
   "outputs": [
    {
     "data": {
      "text/plain": [
       "['CPU times: user 470 ms, sys: 196 ms, total: 665 ms',\n",
       " 'Wall time: 884 ms',\n",
       " 'CPU times: user 394 us, sys: 357 us, total: 751 us',\n",
       " 'Wall time: 571 us',\n",
       " 'CPU times: user 290 us, sys: 263 us, total: 553 us',\n",
       " 'Wall time: 410 us',\n",
       " 'CPU times: user 282 us, sys: 255 us, total: 537 us',\n",
       " 'Wall time: 398 us',\n",
       " 'CPU times: user 289 us, sys: 261 us, total: 550 us',\n",
       " 'Wall time: 400 us',\n",
       " 'CPU times: user 549 us, sys: 0 ns, total: 549 us',\n",
       " 'Wall time: 411 us',\n",
       " 'CPU times: user 535 us, sys: 0 ns, total: 535 us',\n",
       " 'Wall time: 392 us',\n",
       " 'CPU times: user 530 us, sys: 0 ns, total: 530 us',\n",
       " 'Wall time: 395 us',\n",
       " 'CPU times: user 530 us, sys: 0 ns, total: 530 us',\n",
       " 'Wall time: 391 us',\n",
       " 'CPU times: user 523 us, sys: 0 ns, total: 523 us',\n",
       " 'Wall time: 389 us',\n",
       " '']"
      ]
     },
     "execution_count": 4,
     "metadata": {},
     "output_type": "execute_result"
    }
   ],
   "source": [
    "out.split(\"\\n\")"
   ]
  },
  {
   "cell_type": "code",
   "execution_count": null,
   "metadata": {},
   "outputs": [],
   "source": []
  }
 ],
 "metadata": {
  "kernelspec": {
   "display_name": "Python 3",
   "language": "python",
   "name": "python3"
  },
  "language_info": {
   "codemirror_mode": {
    "name": "ipython",
    "version": 3
   },
   "file_extension": ".py",
   "mimetype": "text/x-python",
   "name": "python",
   "nbconvert_exporter": "python",
   "pygments_lexer": "ipython3",
   "version": "3.8.6"
  }
 },
 "nbformat": 4,
 "nbformat_minor": 4
}
